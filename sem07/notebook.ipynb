{
 "cells": [
  {
   "cell_type": "markdown",
   "metadata": {},
   "source": [
    "# Исключения"
   ]
  },
  {
   "cell_type": "markdown",
   "metadata": {},
   "source": [
    "Иерархия исключений: https://docs.python.org/3/library/exceptions.html#exception-hierarchy"
   ]
  },
  {
   "cell_type": "markdown",
   "metadata": {},
   "source": [
    "```\n",
    "BaseException\n",
    " ├── BaseExceptionGroup\n",
    " ├── GeneratorExit\n",
    " ├── KeyboardInterrupt\n",
    " ├── SystemExit\n",
    " └── Exception\n",
    "      ├── ArithmeticError\n",
    "      │    ├── FloatingPointError\n",
    "      │    ├── OverflowError\n",
    "      │    └── ZeroDivisionError\n",
    "      ├── AssertionError\n",
    "      ├── AttributeError\n",
    "      ├── BufferError\n",
    "      ├── EOFError\n",
    "      ├── ExceptionGroup [BaseExceptionGroup]\n",
    "      ├── ImportError\n",
    "      │    └── ModuleNotFoundError\n",
    "      ├── LookupError\n",
    "      │    ├── IndexError\n",
    "      │    └── KeyError\n",
    "      ├── MemoryError\n",
    "      ├── NameError\n",
    "      │    └── UnboundLocalError\n",
    "      ├── OSError\n",
    "      │    ├── BlockingIOError\n",
    "      │    ├── ChildProcessError\n",
    "      │    ├── ConnectionError\n",
    "      │    │    ├── BrokenPipeError\n",
    "      │    │    ├── ConnectionAbortedError\n",
    "      │    │    ├── ConnectionRefusedError\n",
    "      │    │    └── ConnectionResetError\n",
    "      │    ├── FileExistsError\n",
    "      │    ├── FileNotFoundError\n",
    "      │    ├── InterruptedError\n",
    "      │    ├── IsADirectoryError\n",
    "      │    ├── NotADirectoryError\n",
    "      │    ├── PermissionError\n",
    "      │    ├── ProcessLookupError\n",
    "      │    └── TimeoutError\n",
    "      ├── ReferenceError\n",
    "      ├── RuntimeError\n",
    "      │    ├── NotImplementedError\n",
    "      │    └── RecursionError\n",
    "      ├── StopAsyncIteration\n",
    "      ├── StopIteration\n",
    "      ├── SyntaxError\n",
    "      │    └── IndentationError\n",
    "      │         └── TabError\n",
    "      ├── SystemError\n",
    "      ├── TypeError\n",
    "      ├── ValueError\n",
    "      │    └── UnicodeError\n",
    "      │         ├── UnicodeDecodeError\n",
    "      │         ├── UnicodeEncodeError\n",
    "      │         └── UnicodeTranslateError\n",
    "      └── Warning\n",
    "           ├── BytesWarning\n",
    "           ├── DeprecationWarning\n",
    "           ├── EncodingWarning\n",
    "           ├── FutureWarning\n",
    "           ├── ImportWarning\n",
    "           ├── PendingDeprecationWarning\n",
    "           ├── ResourceWarning\n",
    "           ├── RuntimeWarning\n",
    "           ├── SyntaxWarning\n",
    "           ├── UnicodeWarning\n",
    "           └── UserWarning\n",
    "```"
   ]
  },
  {
   "cell_type": "markdown",
   "metadata": {},
   "source": [
    "**try .. except не создает локальную область видимости!!!**"
   ]
  },
  {
   "cell_type": "code",
   "execution_count": null,
   "metadata": {},
   "outputs": [],
   "source": [
    "# filename = 'dummy.txt'\n",
    "filename = 'does_not_exist'\n",
    "\n",
    "\n",
    "def foo(filename: str):\n",
    "    try:\n",
    "        f = open(filename, 'r')\n",
    "    except Exception as e:\n",
    "        print(f'Error: {e}')\n",
    "    else:\n",
    "        print('Nothing errors!')\n",
    "    finally:\n",
    "        f.close()\n",
    "        print('Always will printed')\n",
    "        \n",
    "\n",
    "foo(filename)"
   ]
  },
  {
   "cell_type": "code",
   "execution_count": null,
   "metadata": {},
   "outputs": [],
   "source": [
    "try:\n",
    "    some_funtion()\n",
    "except:\n",
    "    pass"
   ]
  },
  {
   "cell_type": "code",
   "execution_count": null,
   "metadata": {},
   "outputs": [],
   "source": [
    "try:\n",
    "    some_funtion()\n",
    "except BaseException:\n",
    "    pass"
   ]
  },
  {
   "cell_type": "code",
   "execution_count": null,
   "metadata": {},
   "outputs": [],
   "source": [
    "try:\n",
    "    some_funtion()\n",
    "except Exception:\n",
    "    pass"
   ]
  },
  {
   "cell_type": "code",
   "execution_count": null,
   "metadata": {},
   "outputs": [],
   "source": [
    "try:\n",
    "    some_function()\n",
    "except RuntimeError:\n",
    "    pass"
   ]
  },
  {
   "cell_type": "markdown",
   "metadata": {},
   "source": [
    "Исключение должно быть объектом типа BaseException или его наследника"
   ]
  },
  {
   "cell_type": "code",
   "execution_count": null,
   "metadata": {},
   "outputs": [],
   "source": [
    "raise 42"
   ]
  },
  {
   "cell_type": "code",
   "execution_count": null,
   "metadata": {},
   "outputs": [],
   "source": [
    "try:\n",
    "    raise Exception('Some exception')\n",
    "except Exception:\n",
    "    print('ALARM SOME ERROR')\n",
    "    raise"
   ]
  },
  {
   "cell_type": "code",
   "execution_count": null,
   "metadata": {},
   "outputs": [],
   "source": [
    "def foo():\n",
    "    try:\n",
    "        raise Exception('Some exception')\n",
    "    except Exception as e:\n",
    "        print('ALARM SOME ERROR')\n",
    "        raise RuntimeError('Runtime some exception') from e\n",
    "    \n",
    "\n",
    "foo()"
   ]
  },
  {
   "cell_type": "code",
   "execution_count": null,
   "metadata": {},
   "outputs": [],
   "source": [
    "def foo():\n",
    "    try:\n",
    "        raise Exception('Some exception')\n",
    "    except Exception as e:\n",
    "        print('ALARM SOME ERROR')\n",
    "        raise RuntimeError('Runtime some exception')\n",
    "    \n",
    "\n",
    "foo()"
   ]
  },
  {
   "cell_type": "code",
   "execution_count": null,
   "metadata": {},
   "outputs": [],
   "source": [
    "def foo():\n",
    "    try:\n",
    "        raise Exception('Some exception')\n",
    "    except Exception as e:\n",
    "        print('ALARM SOME ERROR')\n",
    "        raise RuntimeError('Runtime some exception') from None\n",
    "    \n",
    "\n",
    "foo()"
   ]
  },
  {
   "cell_type": "code",
   "execution_count": null,
   "metadata": {},
   "outputs": [],
   "source": [
    "class StrError(Exception):\n",
    "    def __str__(self):\n",
    "        return f'Str error: {self.args=}'\n",
    "    \n",
    "\n",
    "raise StrError([1, 2, 3])"
   ]
  },
  {
   "cell_type": "code",
   "execution_count": null,
   "metadata": {},
   "outputs": [],
   "source": [
    "try:\n",
    "    raise TypeError('bad type')\n",
    "except Exception as e:\n",
    "    e.add_note('Add some information')\n",
    "    raise"
   ]
  },
  {
   "cell_type": "code",
   "execution_count": null,
   "metadata": {},
   "outputs": [],
   "source": [
    "import sys\n",
    "from types import TracebackType\n",
    "from typing import Any\n",
    "\n",
    "\n",
    "class BaseExceptionCopy:\n",
    "    args: tuple[Any, ...]\n",
    "    __cause__: BaseException | None\n",
    "    __context__: BaseException | None\n",
    "    __suppress_context__: bool\n",
    "    __traceback__: TracebackType | None\n",
    "    def __init__(self, *args: object) -> None: ...\n",
    "    def __setstate__(self, __state: dict[str, Any] | None) -> None: ...\n",
    "    def with_traceback(self, __tb: TracebackType | None): ...\n",
    "    if sys.version_info >= (3, 11):\n",
    "        # only present after add_note() is called\n",
    "        __notes__: list[str]\n",
    "        def add_note(self, __note: str) -> None: ..."
   ]
  },
  {
   "cell_type": "markdown",
   "metadata": {},
   "source": [
    "- `e.__cause__` - причина исключения, устанавливается при raise ... from ...\n",
    "- `e.__context__`  - последнее пойманное исключение, для цепочек исключений\n",
    "- `e.__traceback__` - [traceback](https://realpython.com/python-traceback/#what-is-a-python-traceback)\n",
    "\n",
    "https://ru.stackoverflow.com/questions/1485541/%D0%A7%D1%82%D0%BE-%D0%B7%D0%B0-%D0%BA%D0%BE%D0%BD%D1%81%D1%82%D1%80%D1%83%D0%BA%D1%86%D0%B8%D1%8F-raise-from-%D0%B2-python?ysclid=lmzg4851je645187070"
   ]
  },
  {
   "cell_type": "code",
   "execution_count": null,
   "metadata": {},
   "outputs": [],
   "source": [
    "import sys\n",
    "\n",
    "\n",
    "try:\n",
    "    raise TypeError('bad type')\n",
    "except Exception:\n",
    "    type_, exs, tb = sys.exc_info()\n",
    "    print(f'{type_}, {exs=}, {tb=}')"
   ]
  },
  {
   "cell_type": "markdown",
   "metadata": {},
   "source": [
    "# Warnings"
   ]
  },
  {
   "cell_type": "code",
   "execution_count": null,
   "metadata": {},
   "outputs": [],
   "source": [
    "def code_with_warning():\n",
    "    from numpy import int32\n",
    "    return int32(1) / int32(0)"
   ]
  },
  {
   "cell_type": "code",
   "execution_count": null,
   "metadata": {},
   "outputs": [],
   "source": [
    "code_with_warning()"
   ]
  },
  {
   "cell_type": "code",
   "execution_count": null,
   "metadata": {},
   "outputs": [],
   "source": [
    "try:\n",
    "    code_with_warning()\n",
    "except Exception as e:\n",
    "    print(e)"
   ]
  },
  {
   "cell_type": "code",
   "execution_count": null,
   "metadata": {},
   "outputs": [],
   "source": [
    "try:\n",
    "    code_with_warning()\n",
    "except Warning as e:\n",
    "    print(e)"
   ]
  },
  {
   "cell_type": "code",
   "execution_count": null,
   "metadata": {},
   "outputs": [],
   "source": [
    "import warnings\n",
    "\n",
    "warnings.filterwarnings(\"ignore\")\n",
    "code_with_warning()"
   ]
  },
  {
   "cell_type": "code",
   "execution_count": null,
   "metadata": {},
   "outputs": [],
   "source": [
    "code_with_warning()"
   ]
  },
  {
   "cell_type": "code",
   "execution_count": null,
   "metadata": {},
   "outputs": [],
   "source": [
    "warnings.resetwarnings()"
   ]
  },
  {
   "cell_type": "code",
   "execution_count": null,
   "metadata": {},
   "outputs": [],
   "source": [
    "code_with_warning()"
   ]
  },
  {
   "cell_type": "markdown",
   "metadata": {},
   "source": [
    "# Логирование "
   ]
  },
  {
   "cell_type": "markdown",
   "metadata": {},
   "source": [
    "- `logger.debug()`\n",
    "- `logger.info()`\n",
    "- `logger.warning()`\n",
    "- `logger.error()`\n",
    "- `logger.critical()`\n",
    "- `logger.exception()`"
   ]
  },
  {
   "cell_type": "code",
   "execution_count": null,
   "metadata": {},
   "outputs": [],
   "source": [
    "import logging\n",
    "import sys\n",
    "\n",
    "\n",
    "logger = logging.getLogger('logger')\n",
    "stdout_handler = logging.StreamHandler(stream=sys.stdout)\n",
    "stdout_handler.setLevel(logging.INFO)\n",
    "logger.addHandler(stdout_handler)"
   ]
  },
  {
   "cell_type": "code",
   "execution_count": null,
   "metadata": {},
   "outputs": [],
   "source": [
    "logger.info('Will not be printed')\n",
    "logger.warning('Will be printed')"
   ]
  },
  {
   "cell_type": "code",
   "execution_count": null,
   "metadata": {},
   "outputs": [],
   "source": [
    "logger.setLevel(logging.INFO)\n",
    "logger.info('Will not be printed')\n",
    "logger.warning('Will be printed')\n"
   ]
  },
  {
   "cell_type": "code",
   "execution_count": null,
   "metadata": {},
   "outputs": [],
   "source": [
    "file_handler = logging.FileHandler('debug.log')\n",
    "file_handler.setLevel(logging.DEBUG)\n",
    "logger.addHandler(file_handler)"
   ]
  },
  {
   "cell_type": "code",
   "execution_count": null,
   "metadata": {},
   "outputs": [],
   "source": [
    "logger.info('Will be printed')\n",
    "logger.warning('Will be printed')"
   ]
  },
  {
   "cell_type": "markdown",
   "metadata": {},
   "source": [
    "Другие полезные хендлеры:\n",
    "- `StreamHandler` - используется для логгирования в `stderr` и `stdout`\n",
    "- `RotatingFileHandler` - работает как файл хендлер, но при этом если файл, в который пишет логгер, достигнет определенного размера, начнет писать в новый файл. Старый файл либо удалит, либо оставит как бекап. Число бэкапов настраивается. \n",
    "- `TimedRotatingFileHandler` - работает как логгер выше, но файлы делятся не по размеру, а по времени записей\n",
    "`NullHandler` - используется чтобы заглушить какой-нибудь логгер"
   ]
  },
  {
   "cell_type": "code",
   "execution_count": null,
   "metadata": {},
   "outputs": [],
   "source": [
    "logger.warning('SOMEPREFIX OJKOKKSd')"
   ]
  },
  {
   "cell_type": "code",
   "execution_count": null,
   "metadata": {},
   "outputs": [],
   "source": [
    "class SomeFilter(logging.Filter):\n",
    "    def filter(self, record):\n",
    "        return not record.getMessage().startswith('SOMEPREFIX')\n",
    "\n",
    "logger.addFilter(SomeFilter())\n"
   ]
  },
  {
   "cell_type": "code",
   "execution_count": null,
   "metadata": {},
   "outputs": [],
   "source": [
    "logger.warning('SOMEPREFIX OJKOKKSd')"
   ]
  },
  {
   "cell_type": "code",
   "execution_count": null,
   "metadata": {},
   "outputs": [],
   "source": [
    "logger = logging.getLogger('logger2')\n",
    "\n",
    "fmt = \"%(asctime)s | %(name)-20s | %(levelname).1s | %(message)s\"\n",
    "\n",
    "console_handler = logging.StreamHandler(stream=sys.stdout)\n",
    "console_handler.setFormatter(logging.Formatter(fmt))\n",
    "console_handler.setLevel(logging.INFO)\n",
    "logger.addHandler(console_handler)"
   ]
  },
  {
   "cell_type": "code",
   "execution_count": null,
   "metadata": {},
   "outputs": [],
   "source": [
    "logger.warning('some log')"
   ]
  },
  {
   "cell_type": "code",
   "execution_count": null,
   "metadata": {},
   "outputs": [],
   "source": [
    "logger = logging.getLogger('logger3')\n",
    "stdout_handler = logging.StreamHandler(stream=sys.stdout)\n",
    "stdout_handler.setLevel(logging.NOTSET)\n",
    "logger.addHandler(stdout_handler)"
   ]
  },
  {
   "cell_type": "code",
   "execution_count": null,
   "metadata": {},
   "outputs": [],
   "source": [
    "def expensive_func():\n",
    "    print('EXPENSIVE!!!')\n",
    "    return 'EXPENSIVE!!!'\n",
    "\n",
    "\n",
    "logger.setLevel(logging.DEBUG)\n",
    "logger.debug('Message with %s', expensive_func())\n",
    "logger.setLevel(logging.INFO)\n",
    "logger.debug('Message with %s', expensive_func())\n",
    "if logger.isEnabledFor(logging.DEBUG):\n",
    "    print('under if')\n",
    "    logger.debug('Message with %s', expensive_func())"
   ]
  },
  {
   "cell_type": "code",
   "execution_count": null,
   "metadata": {},
   "outputs": [],
   "source": []
  }
 ],
 "metadata": {
  "kernelspec": {
   "display_name": "Python 3",
   "language": "python",
   "name": "python3"
  },
  "language_info": {
   "codemirror_mode": {
    "name": "ipython",
    "version": 3
   },
   "file_extension": ".py",
   "mimetype": "text/x-python",
   "name": "python",
   "nbconvert_exporter": "python",
   "pygments_lexer": "ipython3",
   "version": "3.11.5"
  },
  "orig_nbformat": 4
 },
 "nbformat": 4,
 "nbformat_minor": 2
}

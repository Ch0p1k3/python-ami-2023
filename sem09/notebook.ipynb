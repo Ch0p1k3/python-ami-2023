{
 "cells": [
  {
   "cell_type": "markdown",
   "metadata": {},
   "source": [
    "# Контекстные менеджеры"
   ]
  },
  {
   "cell_type": "markdown",
   "metadata": {},
   "source": [
    "Доклад Скотта Майерса \"Why C++ Sails When the Vasa Sank\"\n",
    "\n",
    "- \"What you would consider the single most important feature in C++?\"\n",
    "- Destructors. It is RAII (Resource Acquisition Is Initialization)\n",
    "\n",
    "RAII:\n",
    "- Получение ресурса - инициализация\n",
    "- Освобождение ресурса - уничтожение"
   ]
  },
  {
   "cell_type": "code",
   "execution_count": null,
   "metadata": {},
   "outputs": [],
   "source": [
    "with open('file.txt', 'w') as f:\n",
    "    print('THIS IS RAII', file=f)"
   ]
  },
  {
   "cell_type": "code",
   "execution_count": null,
   "metadata": {},
   "outputs": [],
   "source": [
    "import io\n",
    "\n",
    "\n",
    "def raise_exception(f: io.TextIOWrapper):\n",
    "    raise Exception('Some unexpected exception here')\n",
    "\n",
    "\n",
    "def open_the_file_and_do_smth():\n",
    "    f = open('file_and_do_smth.txt', 'w')\n",
    "    try:\n",
    "        raise_exception()\n",
    "    except Exception:\n",
    "        f.close()\n",
    "        raise\n",
    "    print('WRITE IT', file=f)\n",
    "    f.close()\n",
    "    \n",
    "    \n",
    "open_the_file_and_do_smth()"
   ]
  },
  {
   "cell_type": "code",
   "execution_count": null,
   "metadata": {},
   "outputs": [],
   "source": [
    "import io\n",
    "\n",
    "\n",
    "def raise_exception(f: io.TextIOWrapper):\n",
    "    raise Exception('Some unexpected exception here')\n",
    "\n",
    "\n",
    "def open_the_file_and_do_smth():\n",
    "    with open('file_and_do_smth.txt', 'w') as f:\n",
    "        raise_exception()\n",
    "        print('WRITE IT', file=f)\n",
    "\n",
    "\n",
    "open_the_file_and_do_smth()"
   ]
  },
  {
   "cell_type": "code",
   "execution_count": null,
   "metadata": {},
   "outputs": [],
   "source": [
    "with open('file1.txt', 'w') as f:\n",
    "    f.write('Hello')\n",
    "# file is closed\n",
    "f.write('world')"
   ]
  },
  {
   "cell_type": "markdown",
   "metadata": {},
   "source": [
    "Примеры контекстных менеджеров для `warnings`"
   ]
  },
  {
   "cell_type": "code",
   "execution_count": null,
   "metadata": {},
   "outputs": [],
   "source": [
    "import numpy as np\n",
    "import warnings\n",
    "\n",
    "\n",
    "with warnings.catch_warnings(record=True) as w:\n",
    "    np.int32(1) / np.int32(0)\n",
    "    np.log(0)\n",
    "    \n",
    "    for warn in w:\n",
    "        print(warn)"
   ]
  },
  {
   "cell_type": "markdown",
   "metadata": {},
   "source": [
    "`contextlib.contextmanager` — удобный способ создавать контекстные менеджеры"
   ]
  },
  {
   "cell_type": "code",
   "execution_count": null,
   "metadata": {},
   "outputs": [],
   "source": [
    "from contextlib import contextmanager\n",
    "\n",
    "\n",
    "@contextmanager\n",
    "def first():\n",
    "    print('before')\n",
    "    yield 'first'\n",
    "    print('after')\n",
    "    \n",
    "    \n",
    "class First:\n",
    "    def __enter__(self):\n",
    "        print('before')\n",
    "        return 'first'\n",
    "\n",
    "    # * exc_type - ошибки, которые были пойманы за время работы\n",
    "    # * exc_value - значения ошибок (помним, например, текст)\n",
    "    # * exc_traceback - объект с тем, где это было (чаще всего не используется)\n",
    "    def __exit__(self, exc_type, exc_value, exc_traceback):\n",
    "        print('after')\n",
    "    \n",
    "    \n",
    "@contextmanager\n",
    "def second():\n",
    "    print('before')\n",
    "    yield 2\n",
    "    print('after')\n",
    "    \n",
    "\n",
    "class Second:\n",
    "    def __enter__(self):\n",
    "        print('before')\n",
    "        return 2\n",
    "        \n",
    "    def __exit__(self, exc_type, exc_value, exc_traceback):\n",
    "        print('after')"
   ]
  },
  {
   "cell_type": "code",
   "execution_count": null,
   "metadata": {},
   "outputs": [],
   "source": [
    "with first() as f:\n",
    "    print(f)\n",
    "\n",
    "print()\n",
    "    \n",
    "with First() as f:\n",
    "    print(f)"
   ]
  },
  {
   "cell_type": "markdown",
   "metadata": {},
   "source": [
    "Несколько контекстных менеджеров, вложенные контекстные менеджеры"
   ]
  },
  {
   "cell_type": "code",
   "execution_count": null,
   "metadata": {},
   "outputs": [],
   "source": [
    "# nested contexts\n",
    "with first() as f, second() as s:\n",
    "    print(f, s)"
   ]
  },
  {
   "cell_type": "code",
   "execution_count": null,
   "metadata": {},
   "outputs": [],
   "source": [
    "with first() as f:\n",
    "    with second() as s:\n",
    "        print(f, s)"
   ]
  },
  {
   "cell_type": "markdown",
   "metadata": {},
   "source": [
    "`as smth` - опционально"
   ]
  },
  {
   "cell_type": "code",
   "execution_count": null,
   "metadata": {},
   "outputs": [],
   "source": [
    "with first():\n",
    "    pass"
   ]
  },
  {
   "cell_type": "markdown",
   "metadata": {},
   "source": [
    "# Dataclass"
   ]
  },
  {
   "cell_type": "code",
   "execution_count": 3,
   "metadata": {},
   "outputs": [],
   "source": [
    "import typing as tp\n",
    "from dataclasses import dataclass\n",
    "\n",
    "\n",
    "T = tp.TypeVar('T')\n",
    "\n",
    "\n",
    "@dataclass\n",
    "class Case:\n",
    "    name: str\n",
    "    result: T\n",
    "    expected: T\n",
    "\n",
    "\n",
    "c = Case(\"test1\", 2, 1)"
   ]
  },
  {
   "cell_type": "code",
   "execution_count": 4,
   "metadata": {},
   "outputs": [],
   "source": [
    "import typing as tp\n",
    "from dataclasses import dataclass, field\n",
    "\n",
    "\n",
    "T = tp.TypeVar('T')\n",
    "\n",
    "\n",
    "# https://docs.python.org/3/library/dataclasses.html#dataclasses.dataclass\n",
    "@dataclass(init=True, repr=True, eq=True, order=False, unsafe_hash=False, frozen=False)\n",
    "class Case:\n",
    "    name: str\n",
    "    result: T\n",
    "    expected: T\n",
    "\n",
    "\n",
    "c = Case(\"test_name\", 2, 1)"
   ]
  },
  {
   "cell_type": "code",
   "execution_count": 5,
   "metadata": {},
   "outputs": [],
   "source": [
    "from enum import Enum\n",
    "from dataclasses import dataclass\n",
    "\n",
    "\n",
    "class Marks(Enum):\n",
    "    Two = 2\n",
    "    Three = 3\n",
    "    Four = 4\n",
    "    Five = 5\n",
    "    \n",
    "    \n",
    "class Abilities(Enum):\n",
    "    Smart = 0\n",
    "    Strong = 1\n",
    "    Funny = 2\n",
    "    Etc = 3\n",
    "    \n",
    "    \n",
    "@dataclass\n",
    "class Student:\n",
    "    first_name: str\n",
    "    second_name: str\n",
    "    marks: list[Marks]\n",
    "    abilities: tuple[Abilities, ...]"
   ]
  },
  {
   "cell_type": "code",
   "execution_count": 6,
   "metadata": {},
   "outputs": [],
   "source": [
    "from dataclasses import (\n",
    "    dataclass,\n",
    "    field,\n",
    ")\n",
    "from abc import (\n",
    "    ABC,\n",
    "    abstractmethod,\n",
    ")\n",
    "\n",
    "\n",
    "DISCOUNT_PERCENTS = 15\n",
    "\n",
    "\n",
    "@dataclass(frozen=True, order=True)\n",
    "class Item:\n",
    "    item_id: int = field(compare=False)\n",
    "    title: str\n",
    "    cost: int\n",
    "\n",
    "    def __post_init__(self) -> None:\n",
    "        assert len(self.title) != 0 and self.cost > 0\n",
    "        \n",
    "        \n",
    "@dataclass    # type: ignore\n",
    "class Position(ABC):\n",
    "    item: Item\n",
    "\n",
    "    @abstractmethod\n",
    "    def cost(self) -> float:\n",
    "        return 0.\n",
    "\n",
    "\n",
    "@dataclass\n",
    "class Order:\n",
    "    order_id: int\n",
    "    positions: list[Position] = field(default_factory=list)\n",
    "    cost: int = field(init=False)\n",
    "    have_promo: bool = False\n",
    "\n",
    "    def __post_init__(self, have_promo: bool) -> None:\n",
    "        pos_sum: float = sum([getattr(p, 'cost') for p in self.positions])\n",
    "        if have_promo:\n",
    "            self.cost = int(pos_sum / 100 * (100 - DISCOUNT_PERCENTS))\n",
    "        else:\n",
    "            self.cost = int(pos_sum)\n"
   ]
  },
  {
   "cell_type": "code",
   "execution_count": null,
   "metadata": {},
   "outputs": [],
   "source": []
  }
 ],
 "metadata": {
  "kernelspec": {
   "display_name": "Python 3",
   "language": "python",
   "name": "python3"
  },
  "language_info": {
   "codemirror_mode": {
    "name": "ipython",
    "version": 3
   },
   "file_extension": ".py",
   "mimetype": "text/x-python",
   "name": "python",
   "nbconvert_exporter": "python",
   "pygments_lexer": "ipython3",
   "version": "3.11.5"
  },
  "orig_nbformat": 4
 },
 "nbformat": 4,
 "nbformat_minor": 2
}

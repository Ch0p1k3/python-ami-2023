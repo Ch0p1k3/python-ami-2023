{
 "cells": [
  {
   "cell_type": "markdown",
   "metadata": {},
   "source": [
    "# Request"
   ]
  },
  {
   "cell_type": "markdown",
   "metadata": {},
   "source": [
    "https://linkmeup.gitbook.io/sdsm/ - \"Сети для самых маленьких\""
   ]
  },
  {
   "cell_type": "markdown",
   "metadata": {},
   "source": [
    "### Сетевые модели"
   ]
  },
  {
   "cell_type": "markdown",
   "metadata": {},
   "source": [
    "![](images/slide_4.png)"
   ]
  },
  {
   "cell_type": "markdown",
   "metadata": {},
   "source": [
    "## Что пересылается по проводам?"
   ]
  },
  {
   "cell_type": "markdown",
   "metadata": {},
   "source": [
    "![](images/TCP_IP.svg)"
   ]
  },
  {
   "cell_type": "markdown",
   "metadata": {},
   "source": [
    "![](images/ip.jpeg)"
   ]
  },
  {
   "cell_type": "markdown",
   "metadata": {},
   "source": [
    "![](images/tcpudp.jpeg)"
   ]
  },
  {
   "cell_type": "markdown",
   "metadata": {},
   "source": [
    "![](images/tcpmeme.jpg)"
   ]
  },
  {
   "cell_type": "markdown",
   "metadata": {},
   "source": [
    "![](images/udpmeme.jpeg)"
   ]
  },
  {
   "cell_type": "markdown",
   "metadata": {},
   "source": [
    "![](images/basics-of-dns-resolving-with-cache.jpg)"
   ]
  },
  {
   "cell_type": "markdown",
   "metadata": {},
   "source": [
    "### HTTP"
   ]
  },
  {
   "cell_type": "markdown",
   "metadata": {},
   "source": [
    "![](images/HTTP_Request.png)"
   ]
  },
  {
   "cell_type": "markdown",
   "metadata": {},
   "source": [
    "![](images/HTTP_Request_Headers2.png)"
   ]
  },
  {
   "cell_type": "markdown",
   "metadata": {},
   "source": [
    "![](images/HTTP_methods.jpg)"
   ]
  },
  {
   "cell_type": "markdown",
   "metadata": {},
   "source": [
    "![](images/HTTP_Response.png)"
   ]
  },
  {
   "cell_type": "markdown",
   "metadata": {},
   "source": [
    "![](images/HTTP_Response_Headers2.png)"
   ]
  },
  {
   "cell_type": "markdown",
   "metadata": {},
   "source": [
    "###  Requests: HTTP for Humans"
   ]
  },
  {
   "cell_type": "code",
   "execution_count": 3,
   "metadata": {},
   "outputs": [
    {
     "name": "stdout",
     "output_type": "stream",
     "text": [
      "Requirement already satisfied: requests in /Users/chopik/Library/Python/3.11/lib/python/site-packages (2.31.0)\n",
      "Requirement already satisfied: charset-normalizer<4,>=2 in /Users/chopik/Library/Python/3.11/lib/python/site-packages (from requests) (3.3.0)\n",
      "Requirement already satisfied: idna<4,>=2.5 in /Users/chopik/Library/Python/3.11/lib/python/site-packages (from requests) (3.4)\n",
      "Requirement already satisfied: urllib3<3,>=1.21.1 in /Users/chopik/Library/Python/3.11/lib/python/site-packages (from requests) (2.0.6)\n",
      "Requirement already satisfied: certifi>=2017.4.17 in /Users/chopik/Library/Python/3.11/lib/python/site-packages (from requests) (2023.7.22)\n"
     ]
    }
   ],
   "source": [
    "!pip3 install requests"
   ]
  },
  {
   "cell_type": "code",
   "execution_count": 1,
   "metadata": {},
   "outputs": [
    {
     "data": {
      "text/plain": [
       "200"
      ]
     },
     "execution_count": 1,
     "metadata": {},
     "output_type": "execute_result"
    }
   ],
   "source": [
    "import requests\n",
    "response = requests.get('http://ya.ru')\n",
    "response.status_code"
   ]
  },
  {
   "cell_type": "code",
   "execution_count": 2,
   "metadata": {},
   "outputs": [
    {
     "data": {
      "text/plain": [
       "'<body></body><script nonce=\\'4d0f6ed92720756f3d184fa9caeab71e\\'>var it = {\"host\":\"https:\\\\u002F\\\\u002Fsso.ya.ru\\\\u002Finstall?uuid=86157dc4-ff17-4928-8171-3cc509d14720\",\"retpath\":\"https:\\\\u002F\\\\u002Fya.ru\\\\u002F?nr=1&redirect_ts=1697285966.00000\"};(function() { var form = document.createElement(\\'form\\'); var element1 = document.createElement(\\'input\\'); var element2 = document.createElement(\\'input\\'); element1.name = \\'retpath\\'; element1.type = \\'hidden\\'; element1.value = it.retpath; form.appendChild(element1); element2.name = \\'container\\'; element2.type = \\'hidden\\'; element2.value = \\'1697286026.10139635.OH6VBTqW6j-mOS0l.0W25WtKSGPWsxTWebAF96gknTn8OAwCtLiDw3wPJuqwN5VNAwwGSfiNfBSINsymJGhY9pTG9eyXhV0gP4gJ5aEOuf8IHhDvT8ElUGESLnUnSH2CyNE1L_ZiAG0I1tvTJsfxuUC2_sEg_UjejEdYimhXfNZjHoCDhS5nHU1rZGv-nnce9UX7IB02xL5YC-RAziZnStw3-E54E9eNtxqtGuUHTz_jQwJwztPqjwcWrz3adktK5MuyL9y00encD3wki4QZmnUt8L_8Twa4pUvQKED-WR6j9xEYEUbsDyKxxHCgSTx9r6isRIMcvXGqHfdSzScU0njWXjlAwbFtr3Lb92S87a9oH28_WYQlAyqJzt40wDuwc_yEU1XSo6xjEjh5nYoQMQqGzwapJsPI2Twv8hxe5VHEUruXS2G4u1iZgmlwUz8NHn09CnnaL9tJWNd8ebDP2CiZlf6etQAjJ_2k5-_dvj_0wLtIrJ-r9-tQMjMYL6pieg5btb-NUtbNGA_M6TjNx1V1fVnLrV9e93lsoalj-7iSg8WGa9MsVVy-_CQLM_GBrwidMd350TYFdSxuGeWbAscpEZSvvrK5boQFHwtYTdRMLilh3Iu16gwPXY1QmIPdksCkqlS3V1QgUR43-KuK0xtQGBN-kjKc1OXyWvHGPkr2cLrS_mV-nugLwt3r4TTB5_qxZbbRIKYOdiACQnGwadznlkSlDxRQ5HMsllut9yqSqYqNlAtVkN9rTtVNpc8O4TKmTQcbJ0E1l9Etjl6AQY6759qXAB1uW4SlrTH2jHwhQwpBNstKoVtIRrCX3HkcLVdJYAMNu8aka5o2t0s0C6CW1pa96-BGB57Bn4XYkSC-hk0SsOr7DvZffsuJWsMDSdwgyV_LeQq534N3pVJv7qsvJL1DzS6ERglDRTvO4R7TUDL2SNTF099fCWFt6U0wOz7PSZAl5JDaf-i52N4bpCvWshktDyIL-_ctws5NqD8aY1Qtl6wd_bmRpUAIvVb_IYgY0KkRqN0y92UX5XEWyXfr1Wyy3nv-C0EiLgM7ht3i5V8GqPKlzIYvh1VLYEb7_dAwd3FFQxAOFH6DLdehJPJK6b4wtxfUa0bRezx_-Pdu-Hw-OpjtsYWxnI2n84Dw4mwU_q9S7BI2YX0W13EawU6Cy8mrA9j-s.UDH9c7hJYB7iY2K1gClpAg\\'; form.appendChild(element2); form.method = \\'POST\\'; form.action = it.host; document.body.appendChild(form); form.submit();})();</script>'"
      ]
     },
     "execution_count": 2,
     "metadata": {},
     "output_type": "execute_result"
    }
   ],
   "source": [
    "response.text"
   ]
  },
  {
   "cell_type": "markdown",
   "metadata": {},
   "source": []
  }
 ],
 "metadata": {
  "kernelspec": {
   "display_name": "Python 3",
   "language": "python",
   "name": "python3"
  },
  "language_info": {
   "codemirror_mode": {
    "name": "ipython",
    "version": 3
   },
   "file_extension": ".py",
   "mimetype": "text/x-python",
   "name": "python",
   "nbconvert_exporter": "python",
   "pygments_lexer": "ipython3",
   "version": "3.11.5"
  },
  "orig_nbformat": 4
 },
 "nbformat": 4,
 "nbformat_minor": 2
}
